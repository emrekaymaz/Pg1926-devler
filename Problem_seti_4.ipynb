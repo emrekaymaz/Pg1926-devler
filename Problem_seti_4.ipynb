{
  "nbformat": 4,
  "nbformat_minor": 0,
  "metadata": {
    "colab": {
      "name": "Problem seti 4.ipynb",
      "provenance": [],
      "collapsed_sections": [],
      "authorship_tag": "ABX9TyMFibHLEL2zOm1NVVdZ4GVU",
      "include_colab_link": true
    },
    "kernelspec": {
      "name": "python3",
      "display_name": "Python 3"
    }
  },
  "cells": [
    {
      "cell_type": "markdown",
      "metadata": {
        "id": "view-in-github",
        "colab_type": "text"
      },
      "source": [
        "<a href=\"https://colab.research.google.com/github/emrekaymaz/Pg1926-devler/blob/main/Problem_seti_4.ipynb\" target=\"_parent\"><img src=\"https://colab.research.google.com/assets/colab-badge.svg\" alt=\"Open In Colab\"/></a>"
      ]
    },
    {
      "cell_type": "code",
      "metadata": {
        "cellView": "code",
        "id": "7m3c13DTfHUr"
      },
      "source": [
        "#@Problem 4\n",
        "a= list(input(\"Bir sayı dizisi giriniz\"))\n",
        "print(\"Liste içindeki en büyük sayı\",max(a))"
      ],
      "execution_count": null,
      "outputs": []
    }
  ]
}